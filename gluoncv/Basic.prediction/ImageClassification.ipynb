{
 "cells": [
  {
   "cell_type": "code",
   "execution_count": null,
   "metadata": {},
   "outputs": [],
   "source": [
    "import matplotlib.pyplot as plt\n",
    "import mxnet as mx\n",
    "import gluoncv"
   ]
  },
  {
   "cell_type": "markdown",
   "metadata": {},
   "source": [
    "We define the input image file and the model to use."
   ]
  },
  {
   "cell_type": "code",
   "execution_count": null,
   "metadata": {},
   "outputs": [],
   "source": [
    "filename = 'goose.jpg'\n",
    "img = mx.image.imread(filename)\n",
    "plt.imshow(img.asnumpy())"
   ]
  },
  {
   "cell_type": "code",
   "execution_count": null,
   "metadata": {},
   "outputs": [],
   "source": [
    "# TODO: try running the whole notebook first, then try mobilenetv2_1.0 below \n",
    "# TODO: take a look at https://gluon-cv.mxnet.io/model_zoo/classification.html#classification \n",
    "model_name = 'ResNet50_v1d'\n",
    "net = gluoncv.model_zoo.get_model(model_name, pretrained=True)"
   ]
  },
  {
   "cell_type": "markdown",
   "metadata": {},
   "source": [
    "Preprocess the input image, and make prediction."
   ]
  },
  {
   "cell_type": "code",
   "execution_count": null,
   "metadata": {},
   "outputs": [],
   "source": [
    "transformed_img = gluoncv.data.transforms.presets.imagenet.transform_eval(img)\n",
    "pred = net(transformed_img)"
   ]
  },
  {
   "cell_type": "markdown",
   "metadata": {},
   "source": [
    "Print out the predictions."
   ]
  },
  {
   "cell_type": "code",
   "execution_count": null,
   "metadata": {},
   "outputs": [],
   "source": [
    "prob = mx.nd.softmax(pred)[0].asnumpy()\n",
    "ind = mx.nd.topk(pred, k=5)[0].astype('int').asnumpy().tolist()\n",
    "print('The input picture is classified to be')\n",
    "for i in range(5):\n",
    "    print('- [%s], with probability %.3f.'%(net.classes[ind[i]], prob[ind[i]]))"
   ]
  }
 ],
 "metadata": {
  "kernelspec": {
   "display_name": "conda_mxnet_p36",
   "language": "python",
   "name": "conda_mxnet_p36"
  },
  "language_info": {
   "codemirror_mode": {
    "name": "ipython",
    "version": 3
   },
   "file_extension": ".py",
   "mimetype": "text/x-python",
   "name": "python",
   "nbconvert_exporter": "python",
   "pygments_lexer": "ipython3",
   "version": "3.6.5"
  }
 },
 "nbformat": 4,
 "nbformat_minor": 2
}
