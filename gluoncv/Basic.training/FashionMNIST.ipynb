{
 "cells": [
  {
   "cell_type": "code",
   "execution_count": null,
   "metadata": {},
   "outputs": [],
   "source": [
    "import mxnet as mx\n",
    "from mxnet import autograd, gluon, nd\n",
    "import time"
   ]
  },
  {
   "cell_type": "code",
   "execution_count": null,
   "metadata": {},
   "outputs": [],
   "source": [
    "net = gluon.nn.Sequential()\n",
    "net.add(\n",
    "    gluon.nn.Conv2D(channels=6, kernel_size=5, activation='sigmoid'),\n",
    "    gluon.nn.MaxPool2D(pool_size=2, strides=2),\n",
    "    # TODO: fill in the rest of the LeNet network \n",
    "    \n",
    ")"
   ]
  },
  {
   "cell_type": "code",
   "execution_count": null,
   "metadata": {},
   "outputs": [],
   "source": [
    "batch_size = 256\n",
    "transformer = gluon.data.vision.transforms.Compose([\n",
    "    gluon.data.vision.transforms.ToTensor()\n",
    "])\n",
    "\n",
    "mnist_train = gluon.data.vision.FashionMNIST(train=True)\n",
    "mnist_test = gluon.data.vision.FashionMNIST(train=False)\n",
    "\n",
    "num_workers = 4\n",
    "\n",
    "train_iter = gluon.data.DataLoader(mnist_train.transform_first(transformer),\n",
    "                                   batch_size, shuffle=True,\n",
    "                                   num_workers=num_workers)\n",
    "test_iter = gluon.data.DataLoader(mnist_test.transform_first(transformer),\n",
    "                                  batch_size, shuffle=False,\n",
    "                                  num_workers=num_workers)"
   ]
  },
  {
   "cell_type": "code",
   "execution_count": null,
   "metadata": {},
   "outputs": [],
   "source": [
    "ctx = mx.gpu(0)"
   ]
  },
  {
   "cell_type": "code",
   "execution_count": null,
   "metadata": {},
   "outputs": [],
   "source": [
    "loss = gluon.loss.SoftmaxCrossEntropyLoss()\n",
    "train_metric = mx.metric.Accuracy()"
   ]
  },
  {
   "cell_type": "code",
   "execution_count": null,
   "metadata": {},
   "outputs": [],
   "source": [
    "# TODO: tweak the learning rate between 0 and 1, run a couple of times and find the best setting.\n",
    "lr, num_epochs = 0.1, 20\n",
    "net.initialize(force_reinit=True, ctx=ctx, init=mx.init.Xavier())\n",
    "trainer = gluon.Trainer(net.collect_params(), 'sgd', {'learning_rate': lr})"
   ]
  },
  {
   "cell_type": "code",
   "execution_count": null,
   "metadata": {},
   "outputs": [],
   "source": [
    "def evaluate(data_iter, net, ctx):\n",
    "    acc = nd.array([0], ctx=ctx)\n",
    "    test_metric = mx.metric.Accuracy()\n",
    "    test_metric.reset()\n",
    "    for X, y in data_iter:\n",
    "        X, y = X.as_in_context(ctx), y.as_in_context(ctx)\n",
    "        test_metric.update(y, net(X))\n",
    "    test_metric_name, test_metric_acc = test_metric.get()\n",
    "    return test_metric_acc"
   ]
  },
  {
   "cell_type": "code",
   "execution_count": null,
   "metadata": {},
   "outputs": [],
   "source": [
    "for epoch in range(num_epochs):\n",
    "    train_l_sum, train_acc_sum, start = 0, 0, time.time()\n",
    "    train_metric.reset()\n",
    "    for X, y in train_iter:\n",
    "        X, y = X.as_in_context(ctx), y.as_in_context(ctx)\n",
    "        with autograd.record():\n",
    "            y_hat = net(X)\n",
    "            l = loss(y_hat, y)\n",
    "        l.backward()\n",
    "        trainer.step(batch_size)\n",
    "        train_l_sum += l.mean().asscalar()\n",
    "        train_metric.update(y, y_hat)\n",
    "    train_metric_name, train_acc = train_metric.get()\n",
    "    test_acc = evaluate(test_iter, net, ctx)\n",
    "    print('epoch %d, loss %.4f, train acc %.3f, test acc %.3f, '\n",
    "          'time %.1f sec' % (epoch + 1, train_l_sum / len(train_iter),\n",
    "                             train_acc_sum / len(train_iter),\n",
    "                             test_acc, time.time() - start))"
   ]
  }
 ],
 "metadata": {
  "kernelspec": {
   "display_name": "conda_mxnet_p36",
   "language": "python",
   "name": "conda_mxnet_p36"
  },
  "language_info": {
   "codemirror_mode": {
    "name": "ipython",
    "version": 3
   },
   "file_extension": ".py",
   "mimetype": "text/x-python",
   "name": "python",
   "nbconvert_exporter": "python",
   "pygments_lexer": "ipython3",
   "version": "3.6.5"
  }
 },
 "nbformat": 4,
 "nbformat_minor": 2
}
