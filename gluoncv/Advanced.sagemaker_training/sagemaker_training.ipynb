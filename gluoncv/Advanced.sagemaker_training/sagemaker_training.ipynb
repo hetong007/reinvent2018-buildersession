{
 "cells": [
  {
   "cell_type": "markdown",
   "metadata": {},
   "source": [
    "## SageMaker Integration with FashionMNIST"
   ]
  },
  {
   "cell_type": "code",
   "execution_count": null,
   "metadata": {},
   "outputs": [],
   "source": [
    "import boto3\n",
    "import re\n",
    "import sagemaker\n",
    "from sagemaker import get_execution_role\n",
    "from sagemaker.amazon.amazon_estimator import get_image_uri\n",
    "\n",
    "sagemaker.__version__"
   ]
  },
  {
   "cell_type": "code",
   "execution_count": null,
   "metadata": {},
   "outputs": [],
   "source": [
    "role = get_execution_role()"
   ]
  },
  {
   "cell_type": "code",
   "execution_count": null,
   "metadata": {},
   "outputs": [],
   "source": [
    "from sagemaker.mxnet import MXNet\n",
    "\n",
    "role = sagemaker.get_execution_role()\n",
    "\n",
    "# TODO: examine mxnet-gluon-fashion-mnist.py file and fill in the TODO in the file. \n",
    "# TODO: set the hyperparameters below to improve the model performance \n",
    "hyperparameters={'batch_size': 256,\n",
    "                 'epochs': 20,\n",
    "                 'learning_rate': 0.9,\n",
    "                 'momentum': 0.9,\n",
    "                 'num_classes': 10,\n",
    "                 'log_interval': 100}",
    "m2xlarge = MXNet('mxnet-gluon-fashion-mnist.py',\n",
    "                 role=role, \n",
    "                 train_instance_count=1,\n",
    "                 train_instance_type='ml.p2.xlarge',\n",
    "                 framework_version='1.3.0',\n",
    "                 py_version='py3',\n",
    "                 hyperparameters=hyperparameters)"
   ]
  },
  {
   "cell_type": "code",
   "execution_count": null,
   "metadata": {},
   "outputs": [],
   "source": [
    "m2xlarge.fit()"
   ]
  }
 ],
 "metadata": {
  "kernelspec": {
   "display_name": "conda_mxnet_p36",
   "language": "python",
   "name": "conda_mxnet_p36"
  },
  "language_info": {
   "codemirror_mode": {
    "name": "ipython",
    "version": 3
   },
   "file_extension": ".py",
   "mimetype": "text/x-python",
   "name": "python",
   "nbconvert_exporter": "python",
   "pygments_lexer": "ipython3",
   "version": "3.6.5"
  }
 },
 "nbformat": 4,
 "nbformat_minor": 2
}
